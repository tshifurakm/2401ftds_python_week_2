{
 "cells": [
  {
   "cell_type": "markdown",
   "metadata": {},
   "source": [
    "Write a Python function to check whether a number is divisible by another number. Accept two integer values from the user."
   ]
  },
  {
   "cell_type": "code",
   "execution_count": 1,
   "metadata": {},
   "outputs": [
    {
     "name": "stdout",
     "output_type": "stream",
     "text": [
      "Enter the number: 16\n",
      "Enter the divisor: 2\n",
      "16 is divisible by 2.\n"
     ]
    }
   ],
   "source": [
    "def is_divisible(num, divisor):\n",
    "    \"\"\"\n",
    "    Check if num is divisible by divisor.\n",
    "\n",
    "    Parameters:\n",
    "        num (int): The number to be checked.\n",
    "        divisor (int): The number to divide by.\n",
    "\n",
    "    Returns:\n",
    "        bool: True if num is divisible by divisor, False otherwise.\n",
    "    \"\"\"\n",
    "    return num % divisor == 0\n",
    "\n",
    "# Accept two integer values from the user\n",
    "num = int(input(\"Enter the number: \"))\n",
    "divisor = int(input(\"Enter the divisor: \"))\n",
    "\n",
    "# Check if num is divisible by divisor\n",
    "if is_divisible(num, divisor):\n",
    "    print(f\"{num} is divisible by {divisor}.\")\n",
    "else:\n",
    "    print(f\"{num} is not divisible by {divisor}.\")\n"
   ]
  },
  {
   "cell_type": "markdown",
   "metadata": {},
   "source": [
    "Write a Python function to check whether a distinct pair of numbers whose product is odd is present in a sequence of integer values.\n",
    "\n",
    "*Pictorial Presentation of the sequence [2, 4, 6, 8]:*\n",
    "\n",
    "<img src=\"pictorial_presentation.png\">\n",
    "\n",
    "*Pictorial Presentation of the sequence [1, 6, 4, 7, 8]:*\n",
    "\n",
    "<img src=\"pictorial_presentation_true.png\">"
   ]
  },
  {
   "cell_type": "code",
   "execution_count": 2,
   "metadata": {},
   "outputs": [],
   "source": [
    "def odd_product(nums):\n",
    "    \"\"\"\n",
    "    Check if a distinct pair of numbers whose product is odd is present in the sequence.\n",
    "\n",
    "    Parameters:\n",
    "        nums (list): A sequence of integer values.\n",
    "\n",
    "    Returns:\n",
    "        bool: True if such pair exists, False otherwise.\n",
    "    \"\"\"\n",
    "    for i in range(len(nums)):\n",
    "        for j in range(i + 1, len(nums)):\n",
    "            if nums[i] != nums[j] and (nums[i] * nums[j]) % 2 != 0:\n",
    "                return True\n",
    "    return False"
   ]
  },
  {
   "cell_type": "code",
   "execution_count": 3,
   "metadata": {},
   "outputs": [
    {
     "name": "stdout",
     "output_type": "stream",
     "text": [
      "[2, 4, 6, 8] False\n",
      "[1, 6, 4, 7, 8] True\n",
      "[1, 3, 5, 7, 9] True\n"
     ]
    }
   ],
   "source": [
    "# Define three lists of integers.\n",
    "dt1 = [2, 4, 6, 8]\n",
    "dt2 = [1, 6, 4, 7, 8]\n",
    "dt3 = [1, 3, 5, 7, 9]\n",
    "\n",
    "# Call the 'odd_product' function for each list and print the result.\n",
    "print(dt1, odd_product(dt1))\n",
    "print(dt2, odd_product(dt2))\n",
    "print(dt3, odd_product(dt3))"
   ]
  },
  {
   "cell_type": "code",
   "execution_count": null,
   "metadata": {},
   "outputs": [],
   "source": []
  }
 ],
 "metadata": {
  "kernelspec": {
   "display_name": "Python 3 (ipykernel)",
   "language": "python",
   "name": "python3"
  },
  "language_info": {
   "codemirror_mode": {
    "name": "ipython",
    "version": 3
   },
   "file_extension": ".py",
   "mimetype": "text/x-python",
   "name": "python",
   "nbconvert_exporter": "python",
   "pygments_lexer": "ipython3",
   "version": "3.11.5"
  }
 },
 "nbformat": 4,
 "nbformat_minor": 2
}
